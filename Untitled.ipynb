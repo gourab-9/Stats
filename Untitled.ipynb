{
 "cells": [
  {
   "cell_type": "code",
   "execution_count": 8,
   "id": "79f3c04e",
   "metadata": {},
   "outputs": [],
   "source": [
    "def addition_two_number(a,b):\n",
    "    a=int(input())\n",
    "    b=int(input())\n",
    "    print('Addition of two number:',a+b)\n",
    "    print('subraction of two numbers:',a-b)\n",
    "    if a>5:\n",
    "        print(6)\n",
    "    elif b>8:\n",
    "        print(6)\n",
    "    "
   ]
  },
  {
   "cell_type": "code",
   "execution_count": 10,
   "id": "879cb2e6",
   "metadata": {},
   "outputs": [
    {
     "name": "stdout",
     "output_type": "stream",
     "text": [
      "9\n",
      "9\n",
      "Addition of two number: 18\n",
      "subraction of two numbers: 0\n",
      "6\n"
     ]
    }
   ],
   "source": [
    "addition_two_number(7,0)"
   ]
  },
  {
   "cell_type": "code",
   "execution_count": null,
   "id": "f8b6d19c",
   "metadata": {},
   "outputs": [],
   "source": []
  }
 ],
 "metadata": {
  "kernelspec": {
   "display_name": "Python 3 (ipykernel)",
   "language": "python",
   "name": "python3"
  },
  "language_info": {
   "codemirror_mode": {
    "name": "ipython",
    "version": 3
   },
   "file_extension": ".py",
   "mimetype": "text/x-python",
   "name": "python",
   "nbconvert_exporter": "python",
   "pygments_lexer": "ipython3",
   "version": "3.10.9"
  }
 },
 "nbformat": 4,
 "nbformat_minor": 5
}
